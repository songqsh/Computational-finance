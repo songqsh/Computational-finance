{
  "cells": [
    {
      "cell_type": "markdown",
      "metadata": {
        "id": "beeMNE6NupHF"
      },
      "source": [
        "- Suppose $f$ is convex and $X$ is martingale, prove that $g(t) = \\mathbb E[f(X_t)]$ is increasing."
      ]
    },
    {
      "cell_type": "markdown",
      "metadata": {
        "id": "skUVOXnhvJdK"
      },
      "source": [
        "- __Proof__ (your proof here)"
      ]
    },
    {
      "cell_type": "markdown",
      "metadata": {
        "id": "lw-yQOBaupHI"
      },
      "source": [
        "- Let $t \\mapsto e^{-rt}S_t$ be a martingale, \n",
        "then prove that $$C(t) = \\mathbb E[e^{-rt}(S_t - K)^+]$$ is increasing."
      ]
    },
    {
      "cell_type": "markdown",
      "metadata": {
        "id": "oOQi7_7fvVn2"
      },
      "source": [
        "- __Proof__ (your proof here)"
      ]
    },
    {
      "cell_type": "markdown",
      "metadata": {
        "id": "E09uh6uDupHJ"
      },
      "source": [
        "- Suppose $r = 0$ and $S$ is martingale, prove that\n",
        "$P(t) = \\mathbb E [(S_t - K)^-]$ is increasing."
      ]
    },
    {
      "cell_type": "markdown",
      "metadata": {
        "id": "sVD2bl4uvpBy"
      },
      "source": [
        "- __Proof__ (here)"
      ]
    },
    {
      "cell_type": "markdown",
      "source": [
        "- Prove or disprove the following statement: Let $r>0$ and $S$ is a martingale. Then $P(t) = \\mathbb E [(S_t - K)^-]$ is increasing. "
      ],
      "metadata": {
        "id": "4iO4NZAgdwsb"
      }
    },
    {
      "cell_type": "markdown",
      "metadata": {
        "id": "89ae_VqXdGDo"
      },
      "source": [
        "- __Proof__ (here)"
      ]
    },
    {
      "cell_type": "code",
      "execution_count": null,
      "metadata": {
        "id": "hr7iAhsZdGDt"
      },
      "outputs": [],
      "source": [
        ""
      ]
    }
  ],
  "metadata": {
    "colab": {
      "name": "20montone.ipynb",
      "provenance": []
    },
    "kernelspec": {
      "display_name": "Python 3",
      "language": "python",
      "name": "python3"
    },
    "language_info": {
      "codemirror_mode": {
        "name": "ipython",
        "version": 3
      },
      "file_extension": ".py",
      "mimetype": "text/x-python",
      "name": "python",
      "nbconvert_exporter": "python",
      "pygments_lexer": "ipython3",
      "version": "3.7.4"
    }
  },
  "nbformat": 4,
  "nbformat_minor": 0
}