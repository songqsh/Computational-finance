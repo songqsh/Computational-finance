{
  "nbformat": 4,
  "nbformat_minor": 0,
  "metadata": {
    "colab": {
      "name": "20fd1.ipynb",
      "provenance": []
    },
    "kernelspec": {
      "display_name": "Python 3",
      "language": "python",
      "name": "python3"
    }
  },
  "cells": [
    {
      "cell_type": "markdown",
      "metadata": {
        "id": "DBcZXc9idXnx"
      },
      "source": [
        "# Abstract\n",
        "- Goal:\n",
        "    - Learn various types of the first order derivative approximation: FFD, BFD, CFD operators\n",
        "    - Understand convergence rate of operators\n",
        "    - learn python functions\n"
      ]
    },
    {
      "cell_type": "markdown",
      "metadata": {
        "id": "v2G6Z11ldXn0"
      },
      "source": [
        "# Problem\n",
        "\n",
        "Let $f(x) = \\sin x$. Plot, with $h = .5$\n",
        "\n",
        "- its explicit first order derivative $f'$, \n",
        "- FFD $\\delta_h f$, \n",
        "- BFD $\\delta_{-h}f$, \n",
        "- and CFD $\\delta_{\\pm}f$"
      ]
    },
    {
      "cell_type": "markdown",
      "metadata": {
        "id": "Fpg950gTdXn0"
      },
      "source": [
        "# Anal \n",
        "\n",
        "Given a smooth function $f: \\mathbb R \\mapsto \\mathbb R$, its derivative is\n",
        "$$f'(x) = \\lim_{h\\to 0} \\frac{f(x+h) - f(x)}{h}.$$\n",
        "This means, if $h$ is small enough, then\n",
        "$$f'(x) \\simeq  \\frac{f(x+h) - f(x)}{h} := \\delta_h f.$$\n",
        "We call $\\delta_h$ by Finite Difference (FD) operator. In particular, \n",
        "- If $h>0$, then $\\delta_h$ is Forward Finite Difference (FFD);\n",
        "- If $h<0$, then $\\delta_h$ is Backward Finite Difference (BFD);\n",
        "- The average of FFD and BFD is Central Finite Difference (CFD), denoted by\n",
        "$$\\delta_{\\pm h} f (x) := \\frac 1 2 (\\delta_h f (x) + \\delta_{-h} f(x)) \\simeq f'(x).$$"
      ]
    },
    {
      "cell_type": "markdown",
      "metadata": {
        "id": "mr6zNdONdXn1"
      },
      "source": [
        "__Prop__\n",
        "\n",
        "- Both FFD and BFD has convergence order $1$; i.e.\n",
        "$$|\\delta_h f(x) - f'(x)| = O(h).$$\n",
        "- CFD has convergence order $2$.\n",
        "$$|\\delta_{\\pm h} f(x) - f'(x)| = O(h^2).$$\n",
        "\n",
        "__ex__\n",
        "\n",
        "Prove the above proposition."
      ]
    },
    {
      "cell_type": "markdown",
      "metadata": {
        "id": "EwEKLYSBdXn2"
      },
      "source": [
        "# Code"
      ]
    },
    {
      "cell_type": "markdown",
      "metadata": {
        "id": "UbPNoY5nh2LU"
      },
      "source": [
        "We shall import all needed packages first."
      ]
    },
    {
      "cell_type": "code",
      "metadata": {
        "id": "KHkxAo0vdXn3"
      },
      "source": [
        "import numpy as np\n",
        "import matplotlib.pyplot as plt\n"
      ],
      "execution_count": null,
      "outputs": []
    },
    {
      "cell_type": "markdown",
      "metadata": {
        "id": "w2lnCF64hdID"
      },
      "source": [
        "Math operators ffd, bfd, cfd will be defined here as python functions."
      ]
    },
    {
      "cell_type": "code",
      "metadata": {
        "id": "gVcqHdwIdXn6"
      },
      "source": [
        "def ffd(f, x, h):\n",
        "    return (f(x+h) - f(x))/h\n",
        "\n",
        "def bfd(f, x, h):\n",
        "    return (f(x) - f(x-h))/h\n",
        "\n",
        "def cfd(f, x, h):\n",
        "    return (f(x+h) - f(x-h))/h/2\n",
        "\n"
      ],
      "execution_count": null,
      "outputs": []
    },
    {
      "cell_type": "markdown",
      "metadata": {
        "id": "_Auu4lMQiWrS"
      },
      "source": [
        "Next, for the original function $f(x) = \\sin x$, \n",
        "we shall plot its exact derivative\n",
        "$$f'(x) = \\cos x, $$\n",
        "then, with $h = .5$, plot\n",
        "-  ffd $\\delta_h f$, \n",
        "-  bfd $\\delta_{-h}f$, \n",
        "- and cfd $\\delta_{\\pm h}f$"
      ]
    },
    {
      "cell_type": "markdown",
      "metadata": {
        "id": "SpOMPpLCjiVU"
      },
      "source": [
        "From the graph, it is obvious that cfd is the closest one to original $f'$."
      ]
    },
    {
      "cell_type": "code",
      "metadata": {
        "id": "OY7f0N5BdXn8",
        "outputId": "3477f3ba-754f-4691-b664-a883da7b3be6",
        "colab": {
          "base_uri": "https://localhost:8080/",
          "height": 282
        }
      },
      "source": [
        "h = .5 #step size\n",
        "x_co = np.linspace(0, 2*np.pi, 100)\n",
        "\n",
        "plt.plot(x_co, np.cos(x_co), label = 'cosine')\n",
        "plt.plot(x_co, ffd(np.sin, x_co, h), label = 'FFD')\n",
        "plt.plot(x_co, bfd(np.sin, x_co, h), label = 'BFD')\n",
        "plt.plot(x_co, cfd(np.sin, x_co, h), label = 'CFD')\n",
        "plt.legend()"
      ],
      "execution_count": null,
      "outputs": [
        {
          "output_type": "execute_result",
          "data": {
            "text/plain": [
              "<matplotlib.legend.Legend at 0x7f1126edc668>"
            ]
          },
          "metadata": {
            "tags": []
          },
          "execution_count": 3
        },
        {
          "output_type": "display_data",
          "data": {
            "image/png": "[encoded data removed]",
            "text/plain": [
              "<Figure size 432x288 with 1 Axes>"
            ]
          },
          "metadata": {
            "tags": []
          }
        }
      ]
    },
    {
      "cell_type": "code",
      "metadata": {
        "id": "yf5eNzW0jZGU"
      },
      "source": [
        ""
      ],
      "execution_count": null,
      "outputs": []
    }
  ]
}